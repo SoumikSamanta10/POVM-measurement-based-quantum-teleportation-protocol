{
 "cells": [
  {
   "cell_type": "code",
   "execution_count": 1,
   "id": "912c4be9-e09c-48a5-b822-6f299f82f450",
   "metadata": {},
   "outputs": [],
   "source": [
    "# Importing standard Qiskit libraries\n",
    "from qiskit import QuantumCircuit, transpile, Aer, execute\n",
    "from qiskit.tools.jupyter import *\n",
    "from qiskit.visualization import *\n",
    "from ibm_quantum_widgets import *\n",
    "from qiskit_aer import AerSimulator\n",
    "import numpy as np\n",
    "from qiskit.extensions import UnitaryGate\n",
    "from math import pi\n",
    "from qiskit.providers.fake_provider import FakeVigo\n",
    "from qiskit.quantum_info import state_fidelity\n",
    "\n",
    "aer_sim = AerSimulator()\n",
    "vigo = FakeVigo()\n",
    "# qiskit-ibmq-provider has been deprecated.\n",
    "# Please see the Migration Guides in https://ibm.biz/provider_migration_guide for more detail.\n",
    "from qiskit_ibm_runtime import QiskitRuntimeService, Sampler, Estimator, Session, Options\n",
    "\n",
    "# Loading your IBM Quantum account(s)\n",
    "service = QiskitRuntimeService(channel=\"ibm_quantum\")\n",
    "\n",
    "# Invoke a primitive inside a session. For more details see https://qiskit.org/documentation/partners/qiskit_ibm_runtime/tutorials.html\n",
    "# with Session(backend=service.backend(\"ibmq_qasm_simulator\")):\n",
    "#     result = Sampler().run(circuits).result()"
   ]
  },
  {
   "cell_type": "code",
   "execution_count": 5,
   "id": "d80ea85f-e43d-42df-8e32-b753edd2b553",
   "metadata": {
    "tags": []
   },
   "outputs": [
    {
     "data": {
      "text/plain": [
       "0.9605145836959218"
      ]
     },
     "execution_count": 5,
     "metadata": {},
     "output_type": "execute_result"
    }
   ],
   "source": [
    "qc = QuantumCircuit(8,2)\n",
    "qc.h(0)\n",
    "qc.cx(0,1)\n",
    "qc.barrier()\n",
    "\n",
    "for i in range(2,7):\n",
    "    qc.h(i)\n",
    "for i in range(2,6):\n",
    "    qc.cz(i,i+1)\n",
    "\n",
    "\n",
    "qc.h(2)\n",
    "qc.h(4)\n",
    "qc.h(6)\n",
    "qc.barrier()\n",
    "\n",
    "qc.swap(2,4)\n",
    "qc.swap(4,6)\n",
    "qc.swap(1,3)\n",
    "qc.barrier()\n",
    "\n",
    "\n",
    "matrix = [[0.5,(np.sqrt(3)/2)],\n",
    "          [(-np.sqrt(3))/2,0.5]]\n",
    "gate = UnitaryGate(matrix)\n",
    "qc.append(gate,[4])\n",
    "qc.barrier()\n",
    "\n",
    "qc.x(4)\n",
    "\n",
    "qc.cx(4,7)\n",
    "qc.ry((-pi/4),7)\n",
    "qc.cx(4,7)\n",
    "qc.ry((pi/4),7)\n",
    "\n",
    "qc.x(4)\n",
    "\n",
    "qc.cx(4,7)\n",
    "qc.ry((-pi/4),7)\n",
    "qc.cx(4,7)\n",
    "qc.ry((pi/4),7)\n",
    "\n",
    "\n",
    "qc.barrier()\n",
    "\n",
    "\n",
    "\n",
    "\n",
    "\n",
    "qc.cx(0,1)\n",
    "qc.h(0)\n",
    "qc.cx(2,3)\n",
    "qc.h(2)\n",
    "qc.h(4)\n",
    "qc.barrier()\n",
    "\n",
    "\n",
    "\n",
    "\n",
    "\n",
    "\n",
    "qc.cx(1,5)\n",
    "qc.cx(3,5)\n",
    "qc.cx(1,6)\n",
    "qc.cx(5,6)\n",
    "qc.cx(6,5)\n",
    "qc.save_density_matrix()\n",
    "\n",
    "perfect_result = aer_sim.run(qc).result().data()['density_matrix']\n",
    "noisy_result = vigo.run(qc).result().data()['density_matrix']\n",
    "state_fidelity(perfect_result, noisy_result)\n"
   ]
  }
 ],
 "metadata": {
  "kernelspec": {
   "display_name": "Python 3 (ipykernel)",
   "language": "python",
   "name": "python3"
  },
  "language_info": {
   "codemirror_mode": {
    "name": "ipython",
    "version": 3
   },
   "file_extension": ".py",
   "mimetype": "text/x-python",
   "name": "python",
   "nbconvert_exporter": "python",
   "pygments_lexer": "ipython3",
   "version": "3.10.8"
  },
  "widgets": {
   "application/vnd.jupyter.widget-state+json": {
    "state": {
     "24321efa8197493ca23787b8f5f8e210": {
      "model_module": "@jupyter-widgets/base",
      "model_module_version": "2.0.0",
      "model_name": "LayoutModel",
      "state": {
       "width": "95px"
      }
     },
     "289c0473a1604f0a9a6a767ed5c16b9f": {
      "model_module": "@jupyter-widgets/controls",
      "model_module_version": "2.0.0",
      "model_name": "HTMLModel",
      "state": {
       "layout": "IPY_MODEL_f86c1468a9a74e5ab3645aa26469a5a5",
       "style": "IPY_MODEL_ed9dd444ac524c15aa3106f0da850f01",
       "value": "<h5>Message</h5>"
      }
     },
     "374798ce15d74e4aa6cfd34a102bf163": {
      "model_module": "@jupyter-widgets/base",
      "model_module_version": "2.0.0",
      "model_name": "LayoutModel",
      "state": {
       "width": "190px"
      }
     },
     "3db82ee34dae4800850eb5d16b897282": {
      "model_module": "@jupyter-widgets/base",
      "model_module_version": "2.0.0",
      "model_name": "LayoutModel",
      "state": {
       "margin": "0px 0px 10px 0px"
      }
     },
     "486ff1fd1d824a449bfbfcb8c5e9a7e6": {
      "model_module": "@jupyter-widgets/controls",
      "model_module_version": "2.0.0",
      "model_name": "HTMLModel",
      "state": {
       "layout": "IPY_MODEL_374798ce15d74e4aa6cfd34a102bf163",
       "style": "IPY_MODEL_95b6fce434ca40ebb66e60abd701230d",
       "value": "<h5>Job ID</h5>"
      }
     },
     "4acc89ea05464790984f182e87e6d7fa": {
      "model_module": "@jupyter-widgets/controls",
      "model_module_version": "2.0.0",
      "model_name": "HTMLStyleModel",
      "state": {
       "description_width": "",
       "font_size": null,
       "text_color": null
      }
     },
     "4d55fd652dc040b3975e65ede5a15987": {
      "model_module": "@jupyter-widgets/controls",
      "model_module_version": "2.0.0",
      "model_name": "HTMLStyleModel",
      "state": {
       "description_width": "",
       "font_size": null,
       "text_color": null
      }
     },
     "577c0ac851aa4b8a94d1433dd6c9ec00": {
      "model_module": "@jupyter-widgets/controls",
      "model_module_version": "2.0.0",
      "model_name": "HTMLModel",
      "state": {
       "layout": "IPY_MODEL_24321efa8197493ca23787b8f5f8e210",
       "style": "IPY_MODEL_4acc89ea05464790984f182e87e6d7fa",
       "value": "<h5>Status</h5>"
      }
     },
     "64bc4a6476fc4cc1ae9b68508f6b6e48": {
      "model_module": "@jupyter-widgets/controls",
      "model_module_version": "2.0.0",
      "model_name": "GridBoxModel",
      "state": {
       "children": [
        "IPY_MODEL_b863807064f748039057054b459c8253"
       ],
       "layout": "IPY_MODEL_ab7e2562139e4a37a830ff9b85ea54c3"
      }
     },
     "84abd2dc6efd4a679fb0681dc7c6ef54": {
      "model_module": "@jupyter-widgets/base",
      "model_module_version": "2.0.0",
      "model_name": "LayoutModel",
      "state": {
       "margin": "0px 0px 0px 37px",
       "width": "600px"
      }
     },
     "8929db50acf0452dae89ced6cfc311c8": {
      "model_module": "@jupyter-widgets/base",
      "model_module_version": "2.0.0",
      "model_name": "LayoutModel",
      "state": {
       "width": "70px"
      }
     },
     "95b6fce434ca40ebb66e60abd701230d": {
      "model_module": "@jupyter-widgets/controls",
      "model_module_version": "2.0.0",
      "model_name": "HTMLStyleModel",
      "state": {
       "description_width": "",
       "font_size": null,
       "text_color": null
      }
     },
     "95dde2d40ea44da7b0b72fbb39fb7561": {
      "model_module": "@jupyter-widgets/controls",
      "model_module_version": "2.0.0",
      "model_name": "HTMLModel",
      "state": {
       "layout": "IPY_MODEL_3db82ee34dae4800850eb5d16b897282",
       "style": "IPY_MODEL_4d55fd652dc040b3975e65ede5a15987",
       "value": "<p style='font-family: IBM Plex Sans, Arial, Helvetica, sans-serif; font-size: 20px; font-weight: medium;'>Circuit Properties</p>"
      }
     },
     "ab7e2562139e4a37a830ff9b85ea54c3": {
      "model_module": "@jupyter-widgets/base",
      "model_module_version": "2.0.0",
      "model_name": "LayoutModel",
      "state": {
       "grid_template_areas": "\n                                       \". . . . right \"\n                                        ",
       "grid_template_columns": "20% 20% 20% 20% 20%",
       "width": "100%"
      }
     },
     "af9b6821f03a4c51b2a1f00bc9a9aaf2": {
      "model_module": "@jupyter-widgets/controls",
      "model_module_version": "2.0.0",
      "model_name": "HTMLModel",
      "state": {
       "layout": "IPY_MODEL_e10d3fd8996348ba87b28d10f78753a5",
       "style": "IPY_MODEL_ced51cc728274b90b3d2d36c2ebb9226",
       "value": "<h5>Backend</h5>"
      }
     },
     "b2100ad4837447ad8de3b6e9b9bac53b": {
      "model_module": "@jupyter-widgets/base",
      "model_module_version": "2.0.0",
      "model_name": "LayoutModel",
      "state": {
       "grid_area": "right",
       "padding": "0px 0px 0px 0px",
       "width": "70px"
      }
     },
     "b863807064f748039057054b459c8253": {
      "model_module": "@jupyter-widgets/controls",
      "model_module_version": "2.0.0",
      "model_name": "ButtonModel",
      "state": {
       "button_style": "primary",
       "description": "Clear",
       "layout": "IPY_MODEL_b2100ad4837447ad8de3b6e9b9bac53b",
       "style": "IPY_MODEL_d934190610f445ec919b058d843841d2",
       "tooltip": null
      }
     },
     "c9f50242855a414d9c0ed891e2d4ca3f": {
      "model_module": "@jupyter-widgets/controls",
      "model_module_version": "2.0.0",
      "model_name": "HBoxModel",
      "state": {
       "children": [
        "IPY_MODEL_486ff1fd1d824a449bfbfcb8c5e9a7e6",
        "IPY_MODEL_af9b6821f03a4c51b2a1f00bc9a9aaf2",
        "IPY_MODEL_577c0ac851aa4b8a94d1433dd6c9ec00",
        "IPY_MODEL_ce4f171695db422ba3f0cda0cc2d5ccd",
        "IPY_MODEL_289c0473a1604f0a9a6a767ed5c16b9f"
       ],
       "layout": "IPY_MODEL_84abd2dc6efd4a679fb0681dc7c6ef54"
      }
     },
     "ce4f171695db422ba3f0cda0cc2d5ccd": {
      "model_module": "@jupyter-widgets/controls",
      "model_module_version": "2.0.0",
      "model_name": "HTMLModel",
      "state": {
       "layout": "IPY_MODEL_8929db50acf0452dae89ced6cfc311c8",
       "style": "IPY_MODEL_f849d07c32924c24934d72bf39166f94",
       "value": "<h5>Queue</h5>"
      }
     },
     "ced51cc728274b90b3d2d36c2ebb9226": {
      "model_module": "@jupyter-widgets/controls",
      "model_module_version": "2.0.0",
      "model_name": "HTMLStyleModel",
      "state": {
       "description_width": "",
       "font_size": null,
       "text_color": null
      }
     },
     "d934190610f445ec919b058d843841d2": {
      "model_module": "@jupyter-widgets/controls",
      "model_module_version": "2.0.0",
      "model_name": "ButtonStyleModel",
      "state": {
       "font_family": null,
       "font_size": null,
       "font_style": null,
       "font_variant": null,
       "font_weight": null,
       "text_color": null,
       "text_decoration": null
      }
     },
     "e10d3fd8996348ba87b28d10f78753a5": {
      "model_module": "@jupyter-widgets/base",
      "model_module_version": "2.0.0",
      "model_name": "LayoutModel",
      "state": {
       "width": "145px"
      }
     },
     "ed9dd444ac524c15aa3106f0da850f01": {
      "model_module": "@jupyter-widgets/controls",
      "model_module_version": "2.0.0",
      "model_name": "HTMLStyleModel",
      "state": {
       "description_width": "",
       "font_size": null,
       "text_color": null
      }
     },
     "f849d07c32924c24934d72bf39166f94": {
      "model_module": "@jupyter-widgets/controls",
      "model_module_version": "2.0.0",
      "model_name": "HTMLStyleModel",
      "state": {
       "description_width": "",
       "font_size": null,
       "text_color": null
      }
     },
     "f86c1468a9a74e5ab3645aa26469a5a5": {
      "model_module": "@jupyter-widgets/base",
      "model_module_version": "2.0.0",
      "model_name": "LayoutModel",
      "state": {}
     }
    },
    "version_major": 2,
    "version_minor": 0
   }
  }
 },
 "nbformat": 4,
 "nbformat_minor": 5
}
