{
 "cells": [
  {
   "cell_type": "code",
   "execution_count": 3,
   "id": "f4ef4da9-348b-4e20-b990-d095f70f11ba",
   "metadata": {
    "tags": []
   },
   "outputs": [],
   "source": [
    "# Importing standard Qiskit libraries\n",
    "from qiskit import QuantumCircuit, transpile, Aer, execute\n",
    "from qiskit.tools.jupyter import *\n",
    "from qiskit.visualization import *\n",
    "from ibm_quantum_widgets import *\n",
    "from qiskit_aer import AerSimulator\n",
    "from qiskit.providers.fake_provider import FakeVigo\n",
    "from qiskit.quantum_info import state_fidelity\n",
    "\n",
    "aer_sim = AerSimulator()\n",
    "vigo = FakeVigo()\n",
    "# qiskit-ibmq-provider has been deprecated.\n",
    "# Please see the Migration Guides in https://ibm.biz/provider_migration_guide for more detail.\n",
    "from qiskit_ibm_runtime import QiskitRuntimeService, Sampler, Estimator, Session, Options\n",
    "\n",
    "# Loading your IBM Quantum account(s)\n",
    "service = QiskitRuntimeService(channel=\"ibm_quantum\")\n",
    "\n",
    "# Invoke a primitive inside a session. For more details see https://qiskit.org/documentation/partners/qiskit_ibm_runtime/tutorials.html\n",
    "# with Session(backend=service.backend(\"ibmq_qasm_simulator\")):\n",
    "#     result = Sampler().run(circuits).result()"
   ]
  },
  {
   "cell_type": "code",
   "execution_count": 4,
   "id": "a52eb20b-0163-49ee-9e54-961d0681f7ab",
   "metadata": {
    "tags": []
   },
   "outputs": [
    {
     "data": {
      "text/plain": [
       "0.9623345121323736"
      ]
     },
     "execution_count": 4,
     "metadata": {},
     "output_type": "execute_result"
    }
   ],
   "source": [
    "qc = QuantumCircuit(7,2)\n",
    "\n",
    "qc.h(0)\n",
    "qc.cx(0,1)\n",
    "qc.barrier()\n",
    "\n",
    "for i in range(2,7):\n",
    "    qc.h(i)\n",
    "for i in range(2,6):\n",
    "    qc.cz(i,i+1)\n",
    "\n",
    "\n",
    "qc.h(2)\n",
    "qc.h(4)\n",
    "qc.h(6)\n",
    "\n",
    "\n",
    "qc.swap(2,4)\n",
    "qc.swap(4,6)\n",
    "qc.swap(1,3)\n",
    "qc.barrier()\n",
    "\n",
    "qc.cx(0,1)\n",
    "qc.h(0)\n",
    "qc.cx(2,3)\n",
    "qc.h(2)\n",
    "qc.h(4)\n",
    "qc.barrier()\n",
    "\n",
    "qc.cx(1,5)\n",
    "qc.cx(3,5)\n",
    "qc.cx(1,6)\n",
    "qc.cx(5,6)\n",
    "qc.cx(6,5)\n",
    "\n",
    "qc.save_density_matrix()\n",
    "\n",
    "perfect_result = aer_sim.run(qc).result().data()['density_matrix']\n",
    "noisy_result = vigo.run(qc).result().data()['density_matrix']\n",
    "state_fidelity(perfect_result, noisy_result)\n"
   ]
  }
 ],
 "metadata": {
  "kernelspec": {
   "display_name": "Python 3 (ipykernel)",
   "language": "python",
   "name": "python3"
  },
  "language_info": {
   "codemirror_mode": {
    "name": "ipython",
    "version": 3
   },
   "file_extension": ".py",
   "mimetype": "text/x-python",
   "name": "python",
   "nbconvert_exporter": "python",
   "pygments_lexer": "ipython3",
   "version": "3.10.8"
  },
  "widgets": {
   "application/vnd.jupyter.widget-state+json": {
    "state": {
     "16e1eb922a674ed2994a32d7e0d623a4": {
      "model_module": "@jupyter-widgets/controls",
      "model_module_version": "2.0.0",
      "model_name": "HTMLModel",
      "state": {
       "layout": "IPY_MODEL_f26f951d9c61474283aa5547f7243851",
       "style": "IPY_MODEL_4a26670861764f98bc3cc4e60ee9c55c",
       "value": "<h5>Job ID</h5>"
      }
     },
     "192196b7729d476fbbc28f3ead9c59aa": {
      "model_module": "@jupyter-widgets/controls",
      "model_module_version": "2.0.0",
      "model_name": "HTMLStyleModel",
      "state": {
       "description_width": "",
       "font_size": null,
       "text_color": null
      }
     },
     "204e8c60bdc747638d5740f882ce7b7f": {
      "model_module": "@jupyter-widgets/controls",
      "model_module_version": "2.0.0",
      "model_name": "HTMLStyleModel",
      "state": {
       "description_width": "",
       "font_size": null,
       "text_color": null
      }
     },
     "26aaf40f18484506be801b8fe4c2dbbe": {
      "model_module": "@jupyter-widgets/base",
      "model_module_version": "2.0.0",
      "model_name": "LayoutModel",
      "state": {
       "grid_area": "right",
       "padding": "0px 0px 0px 0px",
       "width": "70px"
      }
     },
     "30dd76d756624637b2740024718feacd": {
      "model_module": "@jupyter-widgets/base",
      "model_module_version": "2.0.0",
      "model_name": "LayoutModel",
      "state": {
       "width": "95px"
      }
     },
     "3cd266f420224b4e843276a86653d2bb": {
      "model_module": "@jupyter-widgets/base",
      "model_module_version": "2.0.0",
      "model_name": "LayoutModel",
      "state": {}
     },
     "4a26670861764f98bc3cc4e60ee9c55c": {
      "model_module": "@jupyter-widgets/controls",
      "model_module_version": "2.0.0",
      "model_name": "HTMLStyleModel",
      "state": {
       "description_width": "",
       "font_size": null,
       "text_color": null
      }
     },
     "5a0252addd974605bf44a9c7051cf8b9": {
      "model_module": "@jupyter-widgets/controls",
      "model_module_version": "2.0.0",
      "model_name": "HBoxModel",
      "state": {
       "children": [
        "IPY_MODEL_16e1eb922a674ed2994a32d7e0d623a4",
        "IPY_MODEL_d051d9cc3a8a4e128b81e214747d36dd",
        "IPY_MODEL_e69909047ff34917aa30f53c23d82dea",
        "IPY_MODEL_657d8277bb6e4bcdbd325147d20091ba",
        "IPY_MODEL_b7ade9d306f8472282923f48b7738e92"
       ],
       "layout": "IPY_MODEL_945b8a2b8dd048d18fde300cebbb4842"
      }
     },
     "5b0e968b28d9417ea54867ca99314f86": {
      "model_module": "@jupyter-widgets/controls",
      "model_module_version": "2.0.0",
      "model_name": "ButtonStyleModel",
      "state": {
       "font_family": null,
       "font_size": null,
       "font_style": null,
       "font_variant": null,
       "font_weight": null,
       "text_color": null,
       "text_decoration": null
      }
     },
     "657d8277bb6e4bcdbd325147d20091ba": {
      "model_module": "@jupyter-widgets/controls",
      "model_module_version": "2.0.0",
      "model_name": "HTMLModel",
      "state": {
       "layout": "IPY_MODEL_f75628757c1740c1b2da0019df684833",
       "style": "IPY_MODEL_b2e0e66d4f6e4efcb9e4a68d7910021d",
       "value": "<h5>Queue</h5>"
      }
     },
     "694338a9ab044d30b26302dd27e509de": {
      "model_module": "@jupyter-widgets/base",
      "model_module_version": "2.0.0",
      "model_name": "LayoutModel",
      "state": {
       "margin": "0px 0px 10px 0px"
      }
     },
     "87bc56fa155f4774bf0fa82f0f03a43e": {
      "model_module": "@jupyter-widgets/controls",
      "model_module_version": "2.0.0",
      "model_name": "GridBoxModel",
      "state": {
       "children": [
        "IPY_MODEL_f5321d79a76e44288daff53554c78380"
       ],
       "layout": "IPY_MODEL_f602cdcc21e64ee888a5336315b11eca"
      }
     },
     "91740af71623432c9c01976d1b5f3cfe": {
      "model_module": "@jupyter-widgets/controls",
      "model_module_version": "2.0.0",
      "model_name": "HTMLStyleModel",
      "state": {
       "description_width": "",
       "font_size": null,
       "text_color": null
      }
     },
     "945b8a2b8dd048d18fde300cebbb4842": {
      "model_module": "@jupyter-widgets/base",
      "model_module_version": "2.0.0",
      "model_name": "LayoutModel",
      "state": {
       "margin": "0px 0px 0px 37px",
       "width": "600px"
      }
     },
     "adfd626248fc40aebf58833bc34eb3a8": {
      "model_module": "@jupyter-widgets/base",
      "model_module_version": "2.0.0",
      "model_name": "LayoutModel",
      "state": {
       "width": "145px"
      }
     },
     "b2e0e66d4f6e4efcb9e4a68d7910021d": {
      "model_module": "@jupyter-widgets/controls",
      "model_module_version": "2.0.0",
      "model_name": "HTMLStyleModel",
      "state": {
       "description_width": "",
       "font_size": null,
       "text_color": null
      }
     },
     "b7ade9d306f8472282923f48b7738e92": {
      "model_module": "@jupyter-widgets/controls",
      "model_module_version": "2.0.0",
      "model_name": "HTMLModel",
      "state": {
       "layout": "IPY_MODEL_3cd266f420224b4e843276a86653d2bb",
       "style": "IPY_MODEL_204e8c60bdc747638d5740f882ce7b7f",
       "value": "<h5>Message</h5>"
      }
     },
     "d051d9cc3a8a4e128b81e214747d36dd": {
      "model_module": "@jupyter-widgets/controls",
      "model_module_version": "2.0.0",
      "model_name": "HTMLModel",
      "state": {
       "layout": "IPY_MODEL_adfd626248fc40aebf58833bc34eb3a8",
       "style": "IPY_MODEL_e9f4c0bb3904403db81ad0cbc0d9bc43",
       "value": "<h5>Backend</h5>"
      }
     },
     "d9057f8fc10c461a9cb88fc2296e7f04": {
      "model_module": "@jupyter-widgets/controls",
      "model_module_version": "2.0.0",
      "model_name": "HTMLModel",
      "state": {
       "layout": "IPY_MODEL_694338a9ab044d30b26302dd27e509de",
       "style": "IPY_MODEL_192196b7729d476fbbc28f3ead9c59aa",
       "value": "<p style='font-family: IBM Plex Sans, Arial, Helvetica, sans-serif; font-size: 20px; font-weight: medium;'>Circuit Properties</p>"
      }
     },
     "e69909047ff34917aa30f53c23d82dea": {
      "model_module": "@jupyter-widgets/controls",
      "model_module_version": "2.0.0",
      "model_name": "HTMLModel",
      "state": {
       "layout": "IPY_MODEL_30dd76d756624637b2740024718feacd",
       "style": "IPY_MODEL_91740af71623432c9c01976d1b5f3cfe",
       "value": "<h5>Status</h5>"
      }
     },
     "e9f4c0bb3904403db81ad0cbc0d9bc43": {
      "model_module": "@jupyter-widgets/controls",
      "model_module_version": "2.0.0",
      "model_name": "HTMLStyleModel",
      "state": {
       "description_width": "",
       "font_size": null,
       "text_color": null
      }
     },
     "f26f951d9c61474283aa5547f7243851": {
      "model_module": "@jupyter-widgets/base",
      "model_module_version": "2.0.0",
      "model_name": "LayoutModel",
      "state": {
       "width": "190px"
      }
     },
     "f5321d79a76e44288daff53554c78380": {
      "model_module": "@jupyter-widgets/controls",
      "model_module_version": "2.0.0",
      "model_name": "ButtonModel",
      "state": {
       "button_style": "primary",
       "description": "Clear",
       "layout": "IPY_MODEL_26aaf40f18484506be801b8fe4c2dbbe",
       "style": "IPY_MODEL_5b0e968b28d9417ea54867ca99314f86",
       "tooltip": null
      }
     },
     "f602cdcc21e64ee888a5336315b11eca": {
      "model_module": "@jupyter-widgets/base",
      "model_module_version": "2.0.0",
      "model_name": "LayoutModel",
      "state": {
       "grid_template_areas": "\n                                       \". . . . right \"\n                                        ",
       "grid_template_columns": "20% 20% 20% 20% 20%",
       "width": "100%"
      }
     },
     "f75628757c1740c1b2da0019df684833": {
      "model_module": "@jupyter-widgets/base",
      "model_module_version": "2.0.0",
      "model_name": "LayoutModel",
      "state": {
       "width": "70px"
      }
     }
    },
    "version_major": 2,
    "version_minor": 0
   }
  }
 },
 "nbformat": 4,
 "nbformat_minor": 5
}
